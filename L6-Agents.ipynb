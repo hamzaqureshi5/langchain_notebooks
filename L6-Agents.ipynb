{
 "cells": [
  {
   "cell_type": "markdown",
   "metadata": {},
   "source": [
    "# LangChain: Agents\n",
    "\n",
    "## Outline:\n",
    "\n",
    "* Using built in LangChain tools: DuckDuckGo search and Wikipedia\n",
    "* Defining your own tools"
   ]
  },
  {
   "cell_type": "code",
   "execution_count": null,
   "metadata": {},
   "outputs": [],
   "source": [
    "import os\n",
    "\n",
    "from dotenv import load_dotenv, find_dotenv\n",
    "_ = load_dotenv(find_dotenv()) # read local .env file\n",
    "\n",
    "import warnings\n",
    "warnings.filterwarnings(\"ignore\")"
   ]
  },
  {
   "cell_type": "code",
   "execution_count": 1,
   "metadata": {},
   "outputs": [],
   "source": [
    "# account for deprecation of LLM model\n",
    "import datetime\n",
    "# Get the current date\n",
    "current_date = datetime.datetime.now().date()\n",
    "\n",
    "# Define the date after which the model should be set to \"gpt-3.5-turbo\"\n",
    "target_date = datetime.date(2024, 6, 12)\n",
    "\n",
    "# Set the model variable based on the current date\n",
    "if current_date > target_date:\n",
    "    llm_model = \"gpt-3.5-turbo\"\n",
    "else:\n",
    "    llm_model = \"gpt-3.5-turbo-0301\""
   ]
  },
  {
   "cell_type": "code",
   "execution_count": 8,
   "metadata": {},
   "outputs": [
    {
     "name": "stdout",
     "output_type": "stream",
     "text": [
      "Requirement already satisfied: wikipedia in c:\\users\\dell\\.conda\\envs\\chatbot\\lib\\site-packages (1.4.0)\n",
      "Requirement already satisfied: beautifulsoup4 in c:\\users\\dell\\.conda\\envs\\chatbot\\lib\\site-packages (from wikipedia) (4.12.3)\n",
      "Requirement already satisfied: requests<3.0.0,>=2.0.0 in c:\\users\\dell\\.conda\\envs\\chatbot\\lib\\site-packages (from wikipedia) (2.31.0)\n",
      "Requirement already satisfied: charset-normalizer<4,>=2 in c:\\users\\dell\\.conda\\envs\\chatbot\\lib\\site-packages (from requests<3.0.0,>=2.0.0->wikipedia) (3.3.2)\n",
      "Requirement already satisfied: idna<4,>=2.5 in c:\\users\\dell\\.conda\\envs\\chatbot\\lib\\site-packages (from requests<3.0.0,>=2.0.0->wikipedia) (3.6)\n",
      "Requirement already satisfied: urllib3<3,>=1.21.1 in c:\\users\\dell\\.conda\\envs\\chatbot\\lib\\site-packages (from requests<3.0.0,>=2.0.0->wikipedia) (2.2.0)\n",
      "Requirement already satisfied: certifi>=2017.4.17 in c:\\users\\dell\\.conda\\envs\\chatbot\\lib\\site-packages (from requests<3.0.0,>=2.0.0->wikipedia) (2024.2.2)\n",
      "Requirement already satisfied: soupsieve>1.2 in c:\\users\\dell\\.conda\\envs\\chatbot\\lib\\site-packages (from beautifulsoup4->wikipedia) (2.5)\n",
      "Collecting langchain_experimental\n",
      "  Downloading langchain_experimental-0.0.50-py3-none-any.whl.metadata (1.9 kB)\n",
      "Requirement already satisfied: langchain<0.2.0,>=0.1.5 in c:\\users\\dell\\.conda\\envs\\chatbot\\lib\\site-packages (from langchain_experimental) (0.1.5)\n",
      "Requirement already satisfied: langchain-core<0.2.0,>=0.1.16 in c:\\users\\dell\\.conda\\envs\\chatbot\\lib\\site-packages (from langchain_experimental) (0.1.18)\n",
      "Requirement already satisfied: PyYAML>=5.3 in c:\\users\\dell\\.conda\\envs\\chatbot\\lib\\site-packages (from langchain<0.2.0,>=0.1.5->langchain_experimental) (6.0.1)\n",
      "Requirement already satisfied: SQLAlchemy<3,>=1.4 in c:\\users\\dell\\.conda\\envs\\chatbot\\lib\\site-packages (from langchain<0.2.0,>=0.1.5->langchain_experimental) (2.0.25)\n",
      "Requirement already satisfied: aiohttp<4.0.0,>=3.8.3 in c:\\users\\dell\\.conda\\envs\\chatbot\\lib\\site-packages (from langchain<0.2.0,>=0.1.5->langchain_experimental) (3.9.3)\n",
      "Requirement already satisfied: dataclasses-json<0.7,>=0.5.7 in c:\\users\\dell\\.conda\\envs\\chatbot\\lib\\site-packages (from langchain<0.2.0,>=0.1.5->langchain_experimental) (0.6.4)\n",
      "Requirement already satisfied: jsonpatch<2.0,>=1.33 in c:\\users\\dell\\.conda\\envs\\chatbot\\lib\\site-packages (from langchain<0.2.0,>=0.1.5->langchain_experimental) (1.33)\n",
      "Requirement already satisfied: langchain-community<0.1,>=0.0.17 in c:\\users\\dell\\.conda\\envs\\chatbot\\lib\\site-packages (from langchain<0.2.0,>=0.1.5->langchain_experimental) (0.0.17)\n",
      "Requirement already satisfied: langsmith<0.1,>=0.0.83 in c:\\users\\dell\\.conda\\envs\\chatbot\\lib\\site-packages (from langchain<0.2.0,>=0.1.5->langchain_experimental) (0.0.86)\n",
      "Requirement already satisfied: numpy<2,>=1 in c:\\users\\dell\\.conda\\envs\\chatbot\\lib\\site-packages (from langchain<0.2.0,>=0.1.5->langchain_experimental) (1.26.3)\n",
      "Requirement already satisfied: pydantic<3,>=1 in c:\\users\\dell\\.conda\\envs\\chatbot\\lib\\site-packages (from langchain<0.2.0,>=0.1.5->langchain_experimental) (2.6.0)\n",
      "Requirement already satisfied: requests<3,>=2 in c:\\users\\dell\\.conda\\envs\\chatbot\\lib\\site-packages (from langchain<0.2.0,>=0.1.5->langchain_experimental) (2.31.0)\n",
      "Requirement already satisfied: tenacity<9.0.0,>=8.1.0 in c:\\users\\dell\\.conda\\envs\\chatbot\\lib\\site-packages (from langchain<0.2.0,>=0.1.5->langchain_experimental) (8.2.3)\n",
      "Requirement already satisfied: anyio<5,>=3 in c:\\users\\dell\\.conda\\envs\\chatbot\\lib\\site-packages (from langchain-core<0.2.0,>=0.1.16->langchain_experimental) (4.2.0)\n",
      "Requirement already satisfied: packaging<24.0,>=23.2 in c:\\users\\dell\\.conda\\envs\\chatbot\\lib\\site-packages (from langchain-core<0.2.0,>=0.1.16->langchain_experimental) (23.2)\n",
      "Requirement already satisfied: aiosignal>=1.1.2 in c:\\users\\dell\\.conda\\envs\\chatbot\\lib\\site-packages (from aiohttp<4.0.0,>=3.8.3->langchain<0.2.0,>=0.1.5->langchain_experimental) (1.3.1)\n",
      "Requirement already satisfied: attrs>=17.3.0 in c:\\users\\dell\\.conda\\envs\\chatbot\\lib\\site-packages (from aiohttp<4.0.0,>=3.8.3->langchain<0.2.0,>=0.1.5->langchain_experimental) (23.2.0)\n",
      "Requirement already satisfied: frozenlist>=1.1.1 in c:\\users\\dell\\.conda\\envs\\chatbot\\lib\\site-packages (from aiohttp<4.0.0,>=3.8.3->langchain<0.2.0,>=0.1.5->langchain_experimental) (1.4.1)\n",
      "Requirement already satisfied: multidict<7.0,>=4.5 in c:\\users\\dell\\.conda\\envs\\chatbot\\lib\\site-packages (from aiohttp<4.0.0,>=3.8.3->langchain<0.2.0,>=0.1.5->langchain_experimental) (6.0.5)\n",
      "Requirement already satisfied: yarl<2.0,>=1.0 in c:\\users\\dell\\.conda\\envs\\chatbot\\lib\\site-packages (from aiohttp<4.0.0,>=3.8.3->langchain<0.2.0,>=0.1.5->langchain_experimental) (1.9.4)\n",
      "Requirement already satisfied: idna>=2.8 in c:\\users\\dell\\.conda\\envs\\chatbot\\lib\\site-packages (from anyio<5,>=3->langchain-core<0.2.0,>=0.1.16->langchain_experimental) (3.6)\n",
      "Requirement already satisfied: sniffio>=1.1 in c:\\users\\dell\\.conda\\envs\\chatbot\\lib\\site-packages (from anyio<5,>=3->langchain-core<0.2.0,>=0.1.16->langchain_experimental) (1.3.0)\n",
      "Requirement already satisfied: marshmallow<4.0.0,>=3.18.0 in c:\\users\\dell\\.conda\\envs\\chatbot\\lib\\site-packages (from dataclasses-json<0.7,>=0.5.7->langchain<0.2.0,>=0.1.5->langchain_experimental) (3.20.2)\n",
      "Requirement already satisfied: typing-inspect<1,>=0.4.0 in c:\\users\\dell\\.conda\\envs\\chatbot\\lib\\site-packages (from dataclasses-json<0.7,>=0.5.7->langchain<0.2.0,>=0.1.5->langchain_experimental) (0.9.0)\n",
      "Requirement already satisfied: jsonpointer>=1.9 in c:\\users\\dell\\.conda\\envs\\chatbot\\lib\\site-packages (from jsonpatch<2.0,>=1.33->langchain<0.2.0,>=0.1.5->langchain_experimental) (2.4)\n",
      "Requirement already satisfied: annotated-types>=0.4.0 in c:\\users\\dell\\.conda\\envs\\chatbot\\lib\\site-packages (from pydantic<3,>=1->langchain<0.2.0,>=0.1.5->langchain_experimental) (0.6.0)\n",
      "Requirement already satisfied: pydantic-core==2.16.1 in c:\\users\\dell\\.conda\\envs\\chatbot\\lib\\site-packages (from pydantic<3,>=1->langchain<0.2.0,>=0.1.5->langchain_experimental) (2.16.1)\n",
      "Requirement already satisfied: typing-extensions>=4.6.1 in c:\\users\\dell\\.conda\\envs\\chatbot\\lib\\site-packages (from pydantic<3,>=1->langchain<0.2.0,>=0.1.5->langchain_experimental) (4.9.0)\n",
      "Requirement already satisfied: charset-normalizer<4,>=2 in c:\\users\\dell\\.conda\\envs\\chatbot\\lib\\site-packages (from requests<3,>=2->langchain<0.2.0,>=0.1.5->langchain_experimental) (3.3.2)\n",
      "Requirement already satisfied: urllib3<3,>=1.21.1 in c:\\users\\dell\\.conda\\envs\\chatbot\\lib\\site-packages (from requests<3,>=2->langchain<0.2.0,>=0.1.5->langchain_experimental) (2.2.0)\n",
      "Requirement already satisfied: certifi>=2017.4.17 in c:\\users\\dell\\.conda\\envs\\chatbot\\lib\\site-packages (from requests<3,>=2->langchain<0.2.0,>=0.1.5->langchain_experimental) (2024.2.2)\n",
      "Requirement already satisfied: greenlet!=0.4.17 in c:\\users\\dell\\.conda\\envs\\chatbot\\lib\\site-packages (from SQLAlchemy<3,>=1.4->langchain<0.2.0,>=0.1.5->langchain_experimental) (3.0.3)\n",
      "Requirement already satisfied: mypy-extensions>=0.3.0 in c:\\users\\dell\\.conda\\envs\\chatbot\\lib\\site-packages (from typing-inspect<1,>=0.4.0->dataclasses-json<0.7,>=0.5.7->langchain<0.2.0,>=0.1.5->langchain_experimental) (1.0.0)\n",
      "Downloading langchain_experimental-0.0.50-py3-none-any.whl (166 kB)\n",
      "   ---------------------------------------- 0.0/166.8 kB ? eta -:--:--\n",
      "   ---------------------------------------- 0.0/166.8 kB ? eta -:--:--\n",
      "   ---------------------------------------- 0.0/166.8 kB ? eta -:--:--\n",
      "   ---------------------------------------- 0.0/166.8 kB ? eta -:--:--\n",
      "   -- ------------------------------------- 10.2/166.8 kB ? eta -:--:--\n",
      "   ------- -------------------------------- 30.7/166.8 kB 1.4 MB/s eta 0:00:01\n",
      "   --------- ----------------------------- 41.0/166.8 kB 330.3 kB/s eta 0:00:01\n",
      "   --------- ----------------------------- 41.0/166.8 kB 330.3 kB/s eta 0:00:01\n",
      "   -------------- ------------------------ 61.4/166.8 kB 299.4 kB/s eta 0:00:01\n",
      "   -------------- ------------------------ 61.4/166.8 kB 299.4 kB/s eta 0:00:01\n",
      "   ------------------- ------------------- 81.9/166.8 kB 306.3 kB/s eta 0:00:01\n",
      "   ------------------- ------------------- 81.9/166.8 kB 306.3 kB/s eta 0:00:01\n",
      "   ------------------- ------------------- 81.9/166.8 kB 306.3 kB/s eta 0:00:01\n",
      "   --------------------- ----------------- 92.2/166.8 kB 194.6 kB/s eta 0:00:01\n",
      "   --------------------- ----------------- 92.2/166.8 kB 194.6 kB/s eta 0:00:01\n",
      "   --------------------------- ---------- 122.9/166.8 kB 218.7 kB/s eta 0:00:01\n",
      "   --------------------------- ---------- 122.9/166.8 kB 218.7 kB/s eta 0:00:01\n",
      "   --------------------------- ---------- 122.9/166.8 kB 218.7 kB/s eta 0:00:01\n",
      "   -------------------------------- ----- 143.4/166.8 kB 213.0 kB/s eta 0:00:01\n",
      "   -------------------------------- ----- 143.4/166.8 kB 213.0 kB/s eta 0:00:01\n",
      "   -------------------------------- ----- 143.4/166.8 kB 213.0 kB/s eta 0:00:01\n",
      "   -------------------------------- ----- 143.4/166.8 kB 213.0 kB/s eta 0:00:01\n",
      "   -------------------------------------- 166.8/166.8 kB 189.1 kB/s eta 0:00:00\n",
      "Installing collected packages: langchain_experimental\n",
      "Successfully installed langchain_experimental-0.0.50\n"
     ]
    }
   ],
   "source": [
    "! pip install -U wikipedia\n",
    "! pip install langchain_experimental"
   ]
  },
  {
   "cell_type": "code",
   "execution_count": 7,
   "metadata": {},
   "outputs": [
    {
     "ename": "ValueError",
     "evalue": "'c:\\\\Users\\\\DELL\\\\.conda\\\\envs\\\\chatbot\\\\Lib\\\\site-packages\\\\langchain\\\\agents\\\\agent_toolkits' is not in the subpath of 'c:\\\\Users\\\\DELL\\\\.conda\\\\envs\\\\chatbot\\\\Lib\\\\site-packages\\\\langchain_core' OR one path is relative and the other is absolute.",
     "output_type": "error",
     "traceback": [
      "\u001b[1;31m---------------------------------------------------------------------------\u001b[0m",
      "\u001b[1;31mValueError\u001b[0m                                Traceback (most recent call last)",
      "Cell \u001b[1;32mIn[7], line 1\u001b[0m\n\u001b[1;32m----> 1\u001b[0m \u001b[38;5;28;01mfrom\u001b[39;00m \u001b[38;5;21;01mlangchain\u001b[39;00m\u001b[38;5;21;01m.\u001b[39;00m\u001b[38;5;21;01magents\u001b[39;00m\u001b[38;5;21;01m.\u001b[39;00m\u001b[38;5;21;01magent_toolkits\u001b[39;00m \u001b[38;5;28;01mimport\u001b[39;00m create_python_agent\n\u001b[0;32m      2\u001b[0m \u001b[38;5;28;01mfrom\u001b[39;00m \u001b[38;5;21;01mlangchain\u001b[39;00m\u001b[38;5;21;01m.\u001b[39;00m\u001b[38;5;21;01magents\u001b[39;00m \u001b[38;5;28;01mimport\u001b[39;00m load_tools, initialize_agent\n\u001b[0;32m      3\u001b[0m \u001b[38;5;28;01mfrom\u001b[39;00m \u001b[38;5;21;01mlangchain\u001b[39;00m\u001b[38;5;21;01m.\u001b[39;00m\u001b[38;5;21;01magents\u001b[39;00m \u001b[38;5;28;01mimport\u001b[39;00m AgentType\n",
      "File \u001b[1;32m<frozen importlib._bootstrap>:1229\u001b[0m, in \u001b[0;36m_handle_fromlist\u001b[1;34m(module, fromlist, import_, recursive)\u001b[0m\n",
      "File \u001b[1;32mc:\\Users\\DELL\\.conda\\envs\\chatbot\\Lib\\site-packages\\langchain\\agents\\agent_toolkits\\__init__.py:50\u001b[0m, in \u001b[0;36m__getattr__\u001b[1;34m(name)\u001b[0m\n\u001b[0;32m     48\u001b[0m \u001b[38;5;250m\u001b[39m\u001b[38;5;124;03m\"\"\"Get attr name.\"\"\"\u001b[39;00m\n\u001b[0;32m     49\u001b[0m \u001b[38;5;28;01mif\u001b[39;00m name \u001b[38;5;129;01min\u001b[39;00m DEPRECATED_AGENTS:\n\u001b[1;32m---> 50\u001b[0m     relative_path \u001b[38;5;241m=\u001b[39m \u001b[43mas_import_path\u001b[49m\u001b[43m(\u001b[49m\u001b[43mPath\u001b[49m\u001b[43m(\u001b[49m\u001b[38;5;18;43m__file__\u001b[39;49m\u001b[43m)\u001b[49m\u001b[38;5;241;43m.\u001b[39;49m\u001b[43mparent\u001b[49m\u001b[43m,\u001b[49m\u001b[43m \u001b[49m\u001b[43msuffix\u001b[49m\u001b[38;5;241;43m=\u001b[39;49m\u001b[43mname\u001b[49m\u001b[43m)\u001b[49m\n\u001b[0;32m     51\u001b[0m     old_path \u001b[38;5;241m=\u001b[39m \u001b[38;5;124m\"\u001b[39m\u001b[38;5;124mlangchain.\u001b[39m\u001b[38;5;124m\"\u001b[39m \u001b[38;5;241m+\u001b[39m relative_path\n\u001b[0;32m     52\u001b[0m     new_path \u001b[38;5;241m=\u001b[39m \u001b[38;5;124m\"\u001b[39m\u001b[38;5;124mlangchain_experimental.\u001b[39m\u001b[38;5;124m\"\u001b[39m \u001b[38;5;241m+\u001b[39m relative_path\n",
      "File \u001b[1;32mc:\\Users\\DELL\\.conda\\envs\\chatbot\\Lib\\site-packages\\langchain_core\\_api\\path.py:30\u001b[0m, in \u001b[0;36mas_import_path\u001b[1;34m(file, suffix, relative_to)\u001b[0m\n\u001b[0;32m     28\u001b[0m \u001b[38;5;28;01mif\u001b[39;00m \u001b[38;5;28misinstance\u001b[39m(file, \u001b[38;5;28mstr\u001b[39m):\n\u001b[0;32m     29\u001b[0m     file \u001b[38;5;241m=\u001b[39m Path(file)\n\u001b[1;32m---> 30\u001b[0m path \u001b[38;5;241m=\u001b[39m \u001b[43mget_relative_path\u001b[49m\u001b[43m(\u001b[49m\u001b[43mfile\u001b[49m\u001b[43m,\u001b[49m\u001b[43m \u001b[49m\u001b[43mrelative_to\u001b[49m\u001b[38;5;241;43m=\u001b[39;49m\u001b[43mrelative_to\u001b[49m\u001b[43m)\u001b[49m\n\u001b[0;32m     31\u001b[0m \u001b[38;5;28;01mif\u001b[39;00m file\u001b[38;5;241m.\u001b[39mis_file():\n\u001b[0;32m     32\u001b[0m     path \u001b[38;5;241m=\u001b[39m path[: \u001b[38;5;241m-\u001b[39m\u001b[38;5;28mlen\u001b[39m(file\u001b[38;5;241m.\u001b[39msuffix)]\n",
      "File \u001b[1;32mc:\\Users\\DELL\\.conda\\envs\\chatbot\\Lib\\site-packages\\langchain_core\\_api\\path.py:18\u001b[0m, in \u001b[0;36mget_relative_path\u001b[1;34m(file, relative_to)\u001b[0m\n\u001b[0;32m     16\u001b[0m \u001b[38;5;28;01mif\u001b[39;00m \u001b[38;5;28misinstance\u001b[39m(file, \u001b[38;5;28mstr\u001b[39m):\n\u001b[0;32m     17\u001b[0m     file \u001b[38;5;241m=\u001b[39m Path(file)\n\u001b[1;32m---> 18\u001b[0m \u001b[38;5;28;01mreturn\u001b[39;00m \u001b[38;5;28mstr\u001b[39m(\u001b[43mfile\u001b[49m\u001b[38;5;241;43m.\u001b[39;49m\u001b[43mrelative_to\u001b[49m\u001b[43m(\u001b[49m\u001b[43mrelative_to\u001b[49m\u001b[43m)\u001b[49m)\n",
      "File \u001b[1;32mc:\\Users\\DELL\\.conda\\envs\\chatbot\\Lib\\pathlib.py:730\u001b[0m, in \u001b[0;36mPurePath.relative_to\u001b[1;34m(self, *other)\u001b[0m\n\u001b[0;32m    728\u001b[0m \u001b[38;5;28;01mif\u001b[39;00m (root \u001b[38;5;129;01mor\u001b[39;00m drv) \u001b[38;5;28;01mif\u001b[39;00m n \u001b[38;5;241m==\u001b[39m \u001b[38;5;241m0\u001b[39m \u001b[38;5;28;01melse\u001b[39;00m cf(abs_parts[:n]) \u001b[38;5;241m!=\u001b[39m cf(to_abs_parts):\n\u001b[0;32m    729\u001b[0m     formatted \u001b[38;5;241m=\u001b[39m \u001b[38;5;28mself\u001b[39m\u001b[38;5;241m.\u001b[39m_format_parsed_parts(to_drv, to_root, to_parts)\n\u001b[1;32m--> 730\u001b[0m     \u001b[38;5;28;01mraise\u001b[39;00m \u001b[38;5;167;01mValueError\u001b[39;00m(\u001b[38;5;124m\"\u001b[39m\u001b[38;5;132;01m{!r}\u001b[39;00m\u001b[38;5;124m is not in the subpath of \u001b[39m\u001b[38;5;132;01m{!r}\u001b[39;00m\u001b[38;5;124m\"\u001b[39m\n\u001b[0;32m    731\u001b[0m             \u001b[38;5;124m\"\u001b[39m\u001b[38;5;124m OR one path is relative and the other is absolute.\u001b[39m\u001b[38;5;124m\"\u001b[39m\n\u001b[0;32m    732\u001b[0m                      \u001b[38;5;241m.\u001b[39mformat(\u001b[38;5;28mstr\u001b[39m(\u001b[38;5;28mself\u001b[39m), \u001b[38;5;28mstr\u001b[39m(formatted)))\n\u001b[0;32m    733\u001b[0m \u001b[38;5;28;01mreturn\u001b[39;00m \u001b[38;5;28mself\u001b[39m\u001b[38;5;241m.\u001b[39m_from_parsed_parts(\u001b[38;5;124m'\u001b[39m\u001b[38;5;124m'\u001b[39m, root \u001b[38;5;28;01mif\u001b[39;00m n \u001b[38;5;241m==\u001b[39m \u001b[38;5;241m1\u001b[39m \u001b[38;5;28;01melse\u001b[39;00m \u001b[38;5;124m'\u001b[39m\u001b[38;5;124m'\u001b[39m,\n\u001b[0;32m    734\u001b[0m                                abs_parts[n:])\n",
      "\u001b[1;31mValueError\u001b[0m: 'c:\\\\Users\\\\DELL\\\\.conda\\\\envs\\\\chatbot\\\\Lib\\\\site-packages\\\\langchain\\\\agents\\\\agent_toolkits' is not in the subpath of 'c:\\\\Users\\\\DELL\\\\.conda\\\\envs\\\\chatbot\\\\Lib\\\\site-packages\\\\langchain_core' OR one path is relative and the other is absolute."
     ]
    }
   ],
   "source": [
    "from langchain.agents.agent_toolkits import create_python_agent\n",
    "from langchain.agents import load_tools, initialize_agent\n",
    "from langchain.agents import AgentType\n",
    "# from langchain.tools.python import PythonREPLTool\n",
    "# from langchain_experimental.tools import PythonREPLTool\n",
    "\n",
    "\n",
    "from langchain.python import PythonREPL\n",
    "from langchain.chat_models.openai import ChatOpenAI"
   ]
  },
  {
   "cell_type": "code",
   "execution_count": null,
   "metadata": {},
   "outputs": [],
   "source": []
  },
  {
   "cell_type": "code",
   "execution_count": null,
   "metadata": {},
   "outputs": [],
   "source": []
  },
  {
   "cell_type": "code",
   "execution_count": null,
   "metadata": {},
   "outputs": [],
   "source": []
  },
  {
   "cell_type": "code",
   "execution_count": null,
   "metadata": {},
   "outputs": [],
   "source": []
  }
 ],
 "metadata": {
  "kernelspec": {
   "display_name": "chatbot",
   "language": "python",
   "name": "python3"
  },
  "language_info": {
   "codemirror_mode": {
    "name": "ipython",
    "version": 3
   },
   "file_extension": ".py",
   "mimetype": "text/x-python",
   "name": "python",
   "nbconvert_exporter": "python",
   "pygments_lexer": "ipython3",
   "version": "3.11.7"
  }
 },
 "nbformat": 4,
 "nbformat_minor": 2
}
